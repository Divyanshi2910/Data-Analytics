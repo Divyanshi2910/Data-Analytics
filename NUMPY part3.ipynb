{
 "cells": [
  {
   "cell_type": "code",
   "execution_count": 3,
   "id": "218d5b2b",
   "metadata": {},
   "outputs": [],
   "source": [
    "import numpy as np"
   ]
  },
  {
   "cell_type": "code",
   "execution_count": 4,
   "id": "243b36a0",
   "metadata": {},
   "outputs": [],
   "source": [
    "#WAP to calculate the sum of 3 by 2 matrix wrt col wise and row wise\n",
    "\n",
    "arr = np.array([[1,2],[3,4],[4,5]])"
   ]
  },
  {
   "cell_type": "code",
   "execution_count": 5,
   "id": "670e1e3a",
   "metadata": {},
   "outputs": [
    {
     "data": {
      "text/plain": [
       "array([[1, 2],\n",
       "       [3, 4],\n",
       "       [4, 5]])"
      ]
     },
     "execution_count": 5,
     "metadata": {},
     "output_type": "execute_result"
    }
   ],
   "source": [
    "arr"
   ]
  },
  {
   "cell_type": "code",
   "execution_count": 7,
   "id": "53013013",
   "metadata": {},
   "outputs": [
    {
     "data": {
      "text/plain": [
       "(3, 2)"
      ]
     },
     "execution_count": 7,
     "metadata": {},
     "output_type": "execute_result"
    }
   ],
   "source": [
    "arr.shape"
   ]
  },
  {
   "cell_type": "code",
   "execution_count": 9,
   "id": "d510b301",
   "metadata": {},
   "outputs": [
    {
     "data": {
      "text/plain": [
       "19"
      ]
     },
     "execution_count": 9,
     "metadata": {},
     "output_type": "execute_result"
    }
   ],
   "source": [
    "arr.sum()"
   ]
  },
  {
   "cell_type": "code",
   "execution_count": 10,
   "id": "7b71a327",
   "metadata": {},
   "outputs": [
    {
     "data": {
      "text/plain": [
       "array([ 8, 11])"
      ]
     },
     "execution_count": 10,
     "metadata": {},
     "output_type": "execute_result"
    }
   ],
   "source": [
    "#Col\n",
    "arr.sum(axis=0)"
   ]
  },
  {
   "cell_type": "code",
   "execution_count": 11,
   "id": "d03e0056",
   "metadata": {},
   "outputs": [
    {
     "data": {
      "text/plain": [
       "array([3, 7, 9])"
      ]
     },
     "execution_count": 11,
     "metadata": {},
     "output_type": "execute_result"
    }
   ],
   "source": [
    "#Row\n",
    "arr.sum(axis=1)"
   ]
  },
  {
   "cell_type": "markdown",
   "id": "e96a4a7f",
   "metadata": {},
   "source": [
    "# Min, Max, Sort"
   ]
  },
  {
   "cell_type": "code",
   "execution_count": 14,
   "id": "69d5ef77",
   "metadata": {},
   "outputs": [],
   "source": [
    "# min --> gives the min. value\n",
    "# max --> gives the max. values\n",
    "# sort --> sort the array from small values to large values"
   ]
  },
  {
   "cell_type": "code",
   "execution_count": 12,
   "id": "9adfe783",
   "metadata": {},
   "outputs": [],
   "source": [
    "arr1 = np.array([[23,45],[34,76],[78,32]])"
   ]
  },
  {
   "cell_type": "code",
   "execution_count": 15,
   "id": "f998d236",
   "metadata": {},
   "outputs": [
    {
     "data": {
      "text/plain": [
       "array([[23, 45],\n",
       "       [34, 76],\n",
       "       [78, 32]])"
      ]
     },
     "execution_count": 15,
     "metadata": {},
     "output_type": "execute_result"
    }
   ],
   "source": [
    "arr1"
   ]
  },
  {
   "cell_type": "code",
   "execution_count": 18,
   "id": "9e0f1b5b",
   "metadata": {},
   "outputs": [
    {
     "data": {
      "text/plain": [
       "23"
      ]
     },
     "execution_count": 18,
     "metadata": {},
     "output_type": "execute_result"
    }
   ],
   "source": [
    "#min.\n",
    "arr1.min()"
   ]
  },
  {
   "cell_type": "code",
   "execution_count": 19,
   "id": "180c26d6",
   "metadata": {},
   "outputs": [
    {
     "data": {
      "text/plain": [
       "78"
      ]
     },
     "execution_count": 19,
     "metadata": {},
     "output_type": "execute_result"
    }
   ],
   "source": [
    "#max\n",
    "arr1.max()"
   ]
  },
  {
   "cell_type": "code",
   "execution_count": 24,
   "id": "6bb323b4",
   "metadata": {},
   "outputs": [],
   "source": [
    "#sort\n",
    "arr1.sort()"
   ]
  },
  {
   "cell_type": "code",
   "execution_count": 25,
   "id": "9fe186db",
   "metadata": {},
   "outputs": [
    {
     "data": {
      "text/plain": [
       "array([[23, 45],\n",
       "       [34, 76],\n",
       "       [32, 78]])"
      ]
     },
     "execution_count": 25,
     "metadata": {},
     "output_type": "execute_result"
    }
   ],
   "source": [
    "arr1"
   ]
  },
  {
   "cell_type": "markdown",
   "id": "cc39a493",
   "metadata": {},
   "source": [
    "# Argmin, Argmax, Argsort"
   ]
  },
  {
   "cell_type": "code",
   "execution_count": null,
   "id": "f6bc0e59",
   "metadata": {},
   "outputs": [],
   "source": [
    "#arg min. --> gives the min. values in form of index value\n",
    "#arg max. --> gives the max. value in form of index value\n",
    "#arg sort. --> sort the array in form of index values"
   ]
  },
  {
   "cell_type": "code",
   "execution_count": 27,
   "id": "e6782b69",
   "metadata": {},
   "outputs": [],
   "source": [
    "arr2 = np.array([[26,46],[39,74],[72,35]])"
   ]
  },
  {
   "cell_type": "code",
   "execution_count": 28,
   "id": "0304499a",
   "metadata": {},
   "outputs": [
    {
     "data": {
      "text/plain": [
       "array([[26, 46],\n",
       "       [39, 74],\n",
       "       [72, 35]])"
      ]
     },
     "execution_count": 28,
     "metadata": {},
     "output_type": "execute_result"
    }
   ],
   "source": [
    "arr2"
   ]
  },
  {
   "cell_type": "code",
   "execution_count": 29,
   "id": "c253c207",
   "metadata": {},
   "outputs": [
    {
     "data": {
      "text/plain": [
       "0"
      ]
     },
     "execution_count": 29,
     "metadata": {},
     "output_type": "execute_result"
    }
   ],
   "source": [
    "#argmin\n",
    "arr2.argmin()      # the index value of smaller number 26 is 0"
   ]
  },
  {
   "cell_type": "code",
   "execution_count": 30,
   "id": "75ae1ab9",
   "metadata": {},
   "outputs": [
    {
     "data": {
      "text/plain": [
       "3"
      ]
     },
     "execution_count": 30,
     "metadata": {},
     "output_type": "execute_result"
    }
   ],
   "source": [
    "#argmax \n",
    "arr2.argmax()     # the index value of biggest number 74 is 3"
   ]
  },
  {
   "cell_type": "code",
   "execution_count": 31,
   "id": "bd1b995b",
   "metadata": {},
   "outputs": [
    {
     "data": {
      "text/plain": [
       "array([[0, 1],\n",
       "       [0, 1],\n",
       "       [1, 0]], dtype=int64)"
      ]
     },
     "execution_count": 31,
     "metadata": {},
     "output_type": "execute_result"
    }
   ],
   "source": [
    "#argsort\n",
    "arr2.argsort()    "
   ]
  }
 ],
 "metadata": {
  "kernelspec": {
   "display_name": "Python 3 (ipykernel)",
   "language": "python",
   "name": "python3"
  },
  "language_info": {
   "codemirror_mode": {
    "name": "ipython",
    "version": 3
   },
   "file_extension": ".py",
   "mimetype": "text/x-python",
   "name": "python",
   "nbconvert_exporter": "python",
   "pygments_lexer": "ipython3",
   "version": "3.9.7"
  }
 },
 "nbformat": 4,
 "nbformat_minor": 5
}
