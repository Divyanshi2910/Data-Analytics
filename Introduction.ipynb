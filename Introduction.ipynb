{
 "cells": [
  {
   "cell_type": "markdown",
   "id": "12acc8a9",
   "metadata": {},
   "source": [
    "# DATA ANALYTICS"
   ]
  },
  {
   "cell_type": "code",
   "execution_count": null,
   "id": "a4ca32d2",
   "metadata": {},
   "outputs": [],
   "source": [
    "#Required\n",
    "\n",
    "#-->Python Basics\n",
    "#-->maths : Differentiation, Integration, P&C\n",
    "#-->Statistics : Mean, Median, Mode \n",
    "\n",
    "#-->Data is Everything and Vice Versa"
   ]
  },
  {
   "cell_type": "code",
   "execution_count": null,
   "id": "368b8e2b",
   "metadata": {},
   "outputs": [],
   "source": [
    "# 4 Libraries\n",
    "\n",
    "#-->Numpy   \n",
    "#-->Pandas\n",
    "#-->Matplotlib\n",
    "#-->Seaborn"
   ]
  },
  {
   "cell_type": "code",
   "execution_count": null,
   "id": "c7445ed6",
   "metadata": {},
   "outputs": [],
   "source": [
    "#1.NUMPY --> Numerical Python\n",
    "#--> Array, Matrix\n",
    "#--> Used in AI : OPEN CV (Computer Vision)      .Numpy and Pandas are Data Analysis Library\n",
    "\n",
    "#2.PANDAS --> Panel Data\n",
    "\n",
    "#3.Matplotlib --> Mathematical Plotting Library\n",
    "#--> Pixels -- Rectangular Boxes -- 0 to 255     .Matplotlib and Seaborn are Data Visualization Library\n",
    "\n",
    "#4.Seaborn --> Updated Version of Matplotlib"
   ]
  },
  {
   "cell_type": "markdown",
   "id": "8bf2c7bb",
   "metadata": {},
   "source": [
    "# Numpy"
   ]
  },
  {
   "cell_type": "code",
   "execution_count": 4,
   "id": "48801daa",
   "metadata": {},
   "outputs": [],
   "source": [
    "# Numpy is a general-purpose array-processing package. It provides a high-performance multidimensional array object,\n",
    "# and tools for working with these arrays. It is the fundamental package for scientific computing with Python.\n",
    "# Besides its obvious scientific uses, Numpy can also be used as an efficient multi-dimensional container of generic data\n",
    "\n"
   ]
  },
  {
   "cell_type": "code",
   "execution_count": null,
   "id": "b13e905c",
   "metadata": {},
   "outputs": [],
   "source": [
    "# 1-D array\n",
    "\n",
    "import numpy as np\n",
    "arr1 = np.array([1,2,3,4])\n",
    "arr1"
   ]
  },
  {
   "cell_type": "code",
   "execution_count": 2,
   "id": "4232273f",
   "metadata": {},
   "outputs": [
    {
     "data": {
      "text/plain": [
       "numpy.ndarray"
      ]
     },
     "execution_count": 2,
     "metadata": {},
     "output_type": "execute_result"
    }
   ],
   "source": [
    "#type of array\n",
    "\n",
    "type(arr1)"
   ]
  },
  {
   "cell_type": "code",
   "execution_count": 3,
   "id": "2903cc88",
   "metadata": {},
   "outputs": [
    {
     "data": {
      "text/plain": [
       "1"
      ]
     },
     "execution_count": 3,
     "metadata": {},
     "output_type": "execute_result"
    }
   ],
   "source": [
    "#dimension of array\n",
    "\n",
    "arr1.ndim"
   ]
  },
  {
   "cell_type": "code",
   "execution_count": 9,
   "id": "29237a2d",
   "metadata": {},
   "outputs": [
    {
     "data": {
      "text/plain": [
       "2"
      ]
     },
     "execution_count": 9,
     "metadata": {},
     "output_type": "execute_result"
    }
   ],
   "source": [
    "# 2-D Array\n",
    "\n",
    "arr2 = np.array([[23,56,89],[56,34,25]])\n",
    "arr2.ndim    #Dimension of Array"
   ]
  },
  {
   "cell_type": "code",
   "execution_count": 7,
   "id": "615e1243",
   "metadata": {},
   "outputs": [
    {
     "data": {
      "text/plain": [
       "array([[23, 56, 89],\n",
       "       [56, 34, 25]])"
      ]
     },
     "execution_count": 7,
     "metadata": {},
     "output_type": "execute_result"
    }
   ],
   "source": [
    "arr2     #Matrix Form"
   ]
  },
  {
   "cell_type": "code",
   "execution_count": 18,
   "id": "fa905de6",
   "metadata": {},
   "outputs": [
    {
     "data": {
      "text/plain": [
       "(2, 3)"
      ]
     },
     "execution_count": 18,
     "metadata": {},
     "output_type": "execute_result"
    }
   ],
   "source": [
    "# Shape & Size\n",
    "\n",
    "arr2.shape"
   ]
  },
  {
   "cell_type": "code",
   "execution_count": 19,
   "id": "9f09677f",
   "metadata": {},
   "outputs": [
    {
     "data": {
      "text/plain": [
       "6"
      ]
     },
     "execution_count": 19,
     "metadata": {},
     "output_type": "execute_result"
    }
   ],
   "source": [
    "arr2.size"
   ]
  },
  {
   "cell_type": "code",
   "execution_count": 12,
   "id": "74a19c97",
   "metadata": {},
   "outputs": [
    {
     "data": {
      "text/plain": [
       "array([[[1, 2, 3],\n",
       "        [4, 5, 6],\n",
       "        [7, 8, 9]]])"
      ]
     },
     "execution_count": 12,
     "metadata": {},
     "output_type": "execute_result"
    }
   ],
   "source": [
    "# 3-D Array\n",
    "\n",
    "arr3 = np.array([[[1,2,3],[4,5,6],[7,8,9]]])\n",
    "arr3"
   ]
  },
  {
   "cell_type": "code",
   "execution_count": 13,
   "id": "fa01012d",
   "metadata": {},
   "outputs": [
    {
     "data": {
      "text/plain": [
       "3"
      ]
     },
     "execution_count": 13,
     "metadata": {},
     "output_type": "execute_result"
    }
   ],
   "source": [
    "arr3.ndim  #Dimension "
   ]
  },
  {
   "cell_type": "code",
   "execution_count": 20,
   "id": "dffdc457",
   "metadata": {},
   "outputs": [
    {
     "data": {
      "text/plain": [
       "(1, 3, 3)"
      ]
     },
     "execution_count": 20,
     "metadata": {},
     "output_type": "execute_result"
    }
   ],
   "source": [
    "# Shape & Size\n",
    "\n",
    "arr3.shape"
   ]
  },
  {
   "cell_type": "code",
   "execution_count": 21,
   "id": "24acb070",
   "metadata": {},
   "outputs": [
    {
     "data": {
      "text/plain": [
       "9"
      ]
     },
     "execution_count": 21,
     "metadata": {},
     "output_type": "execute_result"
    }
   ],
   "source": [
    "arr3.size"
   ]
  },
  {
   "cell_type": "code",
   "execution_count": 14,
   "id": "ab892b72",
   "metadata": {},
   "outputs": [
    {
     "data": {
      "text/plain": [
       "5"
      ]
     },
     "execution_count": 14,
     "metadata": {},
     "output_type": "execute_result"
    }
   ],
   "source": [
    "#WAP to slice the data 5 from arr3\n",
    "\n",
    "arr3[0][1][1]"
   ]
  },
  {
   "cell_type": "code",
   "execution_count": 22,
   "id": "3e40bd6b",
   "metadata": {},
   "outputs": [
    {
     "data": {
      "text/plain": [
       "1"
      ]
     },
     "execution_count": 22,
     "metadata": {},
     "output_type": "execute_result"
    }
   ],
   "source": [
    "arr3[0][0][0]"
   ]
  },
  {
   "cell_type": "code",
   "execution_count": 23,
   "id": "e44b81a0",
   "metadata": {},
   "outputs": [
    {
     "data": {
      "text/plain": [
       "array([7, 8, 9])"
      ]
     },
     "execution_count": 23,
     "metadata": {},
     "output_type": "execute_result"
    }
   ],
   "source": [
    "arr3[0][2]"
   ]
  },
  {
   "cell_type": "code",
   "execution_count": 16,
   "id": "f33f42ed",
   "metadata": {},
   "outputs": [
    {
     "data": {
      "text/plain": [
       "9"
      ]
     },
     "execution_count": 16,
     "metadata": {},
     "output_type": "execute_result"
    }
   ],
   "source": [
    "#WAP to find the max. im arr3\n",
    "\n",
    "arr3.max()"
   ]
  },
  {
   "cell_type": "code",
   "execution_count": 17,
   "id": "725b7625",
   "metadata": {},
   "outputs": [
    {
     "data": {
      "text/plain": [
       "1"
      ]
     },
     "execution_count": 17,
     "metadata": {},
     "output_type": "execute_result"
    }
   ],
   "source": [
    "#$WAP to find the min. in arr3\n",
    "\n",
    "arr3.min()"
   ]
  }
 ],
 "metadata": {
  "kernelspec": {
   "display_name": "Python 3 (ipykernel)",
   "language": "python",
   "name": "python3"
  },
  "language_info": {
   "codemirror_mode": {
    "name": "ipython",
    "version": 3
   },
   "file_extension": ".py",
   "mimetype": "text/x-python",
   "name": "python",
   "nbconvert_exporter": "python",
   "pygments_lexer": "ipython3",
   "version": "3.9.7"
  }
 },
 "nbformat": 4,
 "nbformat_minor": 5
}
